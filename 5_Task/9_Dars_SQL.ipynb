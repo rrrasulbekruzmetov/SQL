{
 "cells": [
  {
   "cell_type": "markdown",
   "id": "dfdc8c4c",
   "metadata": {},
   "source": [
    "# 15 ta BASIC SQL Querylar"
   ]
  },
  {
   "cell_type": "markdown",
   "id": "9655e610",
   "metadata": {},
   "source": [
    "# Barcha foydalanuvchilarni chiqarish"
   ]
  },
  {
   "cell_type": "code",
   "execution_count": null,
   "id": "d9a63007",
   "metadata": {},
   "outputs": [],
   "source": [
    "SELECT * \n",
    "FROM users;"
   ]
  },
  {
   "cell_type": "markdown",
   "id": "a812588a",
   "metadata": {},
   "source": [
    "# Foydalanuvchilarning faqat ismlarini chiqarish"
   ]
  },
  {
   "cell_type": "markdown",
   "id": "63d5c981",
   "metadata": {},
   "source": [
    "SELECT\n",
    "name\n",
    "FROM users;"
   ]
  },
  {
   "cell_type": "markdown",
   "id": "30fdc292",
   "metadata": {},
   "source": [
    "# Barcha unikal shaharlar ro‘yxatini olish"
   ]
  },
  {
   "cell_type": "code",
   "execution_count": null,
   "id": "8e6f588f",
   "metadata": {},
   "outputs": [],
   "source": [
    "SELECT DISTINCT\n",
    "city\n",
    "FROM users;"
   ]
  },
  {
   "cell_type": "markdown",
   "id": "7777de42",
   "metadata": {},
   "source": [
    "# 30 yoshdan katta foydalanuvchilar"
   ]
  },
  {
   "cell_type": "markdown",
   "id": "07e2323d",
   "metadata": {},
   "source": [
    "SELECT * \n",
    "FROM users\n",
    "WHERE age > 30;"
   ]
  },
  {
   "cell_type": "markdown",
   "id": "e0509c10",
   "metadata": {},
   "source": [
    "# 'Tashkent' shahridagi foydalanuvchilar"
   ]
  },
  {
   "cell_type": "code",
   "execution_count": null,
   "id": "5cbe01d9",
   "metadata": {},
   "outputs": [],
   "source": [
    "SELECT *\n",
    "FROM users\n",
    "WHERE city = 'Tashkent';"
   ]
  },
  {
   "cell_type": "markdown",
   "id": "3e0ebad5",
   "metadata": {},
   "source": [
    "# Har bir bo‘limdagi xodimlar soni"
   ]
  },
  {
   "cell_type": "code",
   "execution_count": null,
   "id": "901204d0",
   "metadata": {},
   "outputs": [],
   "source": [
    "SELECT\n",
    "department,\n",
    "COUNT(*)\n",
    "FROM employees\n",
    "GROUP BY department;"
   ]
  },
  {
   "cell_type": "markdown",
   "id": "a4cb355d",
   "metadata": {},
   "source": [
    "# Faqat soni 5 dan ortiq bo‘lgan bo‘limlar"
   ]
  },
  {
   "cell_type": "code",
   "execution_count": null,
   "id": "ff24db82",
   "metadata": {},
   "outputs": [],
   "source": [
    "SELECT\n",
    "department,\n",
    "COUNT(*)\n",
    "FROM employees\n",
    "GROUP BY department\n",
    "HAVING COUNT(*) > 5;"
   ]
  },
  {
   "cell_type": "markdown",
   "id": "38d5c987",
   "metadata": {},
   "source": [
    "#  Eng katta maosh bilan xodimlarni saralash"
   ]
  },
  {
   "cell_type": "code",
   "execution_count": null,
   "id": "593692c8",
   "metadata": {},
   "outputs": [],
   "source": [
    "SELECT *\n",
    "FROM employees\n",
    "ORDER BY salary DESC;"
   ]
  },
  {
   "cell_type": "markdown",
   "id": "cb7b89c8",
   "metadata": {},
   "source": [
    "# Barcha unikal rollarni chiqarish"
   ]
  },
  {
   "cell_type": "code",
   "execution_count": null,
   "id": "362e4723",
   "metadata": {},
   "outputs": [],
   "source": [
    "SELECT DISTINCT role \n",
    "FROM users;"
   ]
  },
  {
   "cell_type": "markdown",
   "id": "fe5ee4b4",
   "metadata": {},
   "source": [
    "#  Foydalanuvchilar sonini hisoblash"
   ]
  },
  {
   "cell_type": "code",
   "execution_count": null,
   "id": "5d4ed259",
   "metadata": {},
   "outputs": [],
   "source": [
    "SELECT\n",
    "COUNT(*)\n",
    "FROM users;"
   ]
  },
  {
   "cell_type": "markdown",
   "id": "c6aa2e1f",
   "metadata": {},
   "source": [
    "# Ismi \"A\" harfi bilan boshlanadiganlar"
   ]
  },
  {
   "cell_type": "code",
   "execution_count": null,
   "id": "22e95044",
   "metadata": {},
   "outputs": [],
   "source": [
    "SELECT *\n",
    "FROM users\n",
    "WHERE name LIKE 'A%';"
   ]
  },
  {
   "cell_type": "markdown",
   "id": "e6ce539c",
   "metadata": {},
   "source": [
    "# 2024 yilda berilgan buyurtmalar"
   ]
  },
  {
   "cell_type": "code",
   "execution_count": null,
   "id": "0a2f7dd2",
   "metadata": {},
   "outputs": [],
   "source": [
    "SELECT * \n",
    "FROM orders\n",
    "WHERE YEAR(order_date) = 2024;"
   ]
  },
  {
   "cell_type": "markdown",
   "id": "dd409e23",
   "metadata": {},
   "source": [
    "# 20 yoshdan 30 yoshgacha bo‘lganlar"
   ]
  },
  {
   "cell_type": "code",
   "execution_count": null,
   "id": "e5c983ba",
   "metadata": {},
   "outputs": [],
   "source": [
    "SELECT *\n",
    "FROM users\n",
    "WHERE age BETWEEN 20 AND 30;"
   ]
  },
  {
   "cell_type": "markdown",
   "id": "f034fd6d",
   "metadata": {},
   "source": [
    "#  `admin` yoki `editor` roliga ega foydalanuvchilar"
   ]
  },
  {
   "cell_type": "code",
   "execution_count": null,
   "id": "739232d4",
   "metadata": {},
   "outputs": [],
   "source": [
    "SELECT *\n",
    "FROM users\n",
    "WHERE role IN ('admin', 'editor');"
   ]
  },
  {
   "cell_type": "markdown",
   "id": "00e3f34b",
   "metadata": {},
   "source": [
    "# Har bir shahardan eng ko‘p foydalanuvchi"
   ]
  },
  {
   "cell_type": "code",
   "execution_count": null,
   "id": "037a9c5d",
   "metadata": {},
   "outputs": [],
   "source": [
    "SELECT city,\n",
    "COUNT(*) \n",
    "FROM users \n",
    "GROUP BY city\n",
    "ORDER BY COUNT(*) DESC;"
   ]
  },
  {
   "cell_type": "markdown",
   "id": "589e4e6c",
   "metadata": {},
   "source": [
    "# INTERMEDIATE darajadagi 15 ta SQL Query"
   ]
  },
  {
   "cell_type": "markdown",
   "id": "18ed4471",
   "metadata": {},
   "source": [
    "# Foydalanuvchilar soni bo‘yicha TOP 5 shahar"
   ]
  },
  {
   "cell_type": "code",
   "execution_count": null,
   "id": "a4e75dce",
   "metadata": {},
   "outputs": [],
   "source": [
    "SELECT city,\n",
    "COUNT(*) AS user_count\n",
    "FROM users\n",
    "GROUP BY city\n",
    "ORDER BY user_count DESC\n",
    "LIMIT 5;"
   ]
  },
  {
   "cell_type": "markdown",
   "id": "16eb2c01",
   "metadata": {},
   "source": [
    "#  Har bir mahsulotdan nechta sotilganini ko‘rsatish"
   ]
  },
  {
   "cell_type": "code",
   "execution_count": null,
   "id": "7b9f23d4",
   "metadata": {},
   "outputs": [],
   "source": [
    "SELECT\n",
    "product_id,\n",
    "SUM(quantity) AS total_sold\n",
    "FROM sales\n",
    "GROUP BY product_id;"
   ]
  },
  {
   "cell_type": "markdown",
   "id": "ff7f0bbe",
   "metadata": {},
   "source": [
    "# Faqat umumiy savdosi 100 dan oshgan mahsulotlar"
   ]
  },
  {
   "cell_type": "code",
   "execution_count": null,
   "id": "32c2c44e",
   "metadata": {},
   "outputs": [],
   "source": [
    "SELECT product_id, SUM(quantity) AS total_sold\n",
    "FROM sales\n",
    "GROUP BY product_id\n",
    "HAVING SUM(quantity) > 100;"
   ]
  },
  {
   "cell_type": "markdown",
   "id": "12d5bf5f",
   "metadata": {},
   "source": [
    "# Har bir xodimning oylik + bonus to‘lovlari"
   ]
  },
  {
   "cell_type": "code",
   "execution_count": null,
   "id": "dbf33a36",
   "metadata": {},
   "outputs": [],
   "source": [
    "SELECT\n",
    "name,\n",
    "salary,\n",
    "bonus, \n",
    "(salary + bonus) AS total_income\n",
    "FROM employees;"
   ]
  },
  {
   "cell_type": "markdown",
   "id": "79870848",
   "metadata": {},
   "source": [
    "# Har bir yilda nechta buyurtma berilgan"
   ]
  },
  {
   "cell_type": "code",
   "execution_count": null,
   "id": "4304f3c9",
   "metadata": {},
   "outputs": [],
   "source": [
    "SELECT YEAR(order_date) AS year,\n",
    "COUNT(*) AS total_orders\n",
    "FROM orders\n",
    "GROUP BY year;"
   ]
  },
  {
   "cell_type": "markdown",
   "id": "070e5a1a",
   "metadata": {},
   "source": [
    "#  Faqat email ko‘rsatilgan foydalanuvchilar"
   ]
  },
  {
   "cell_type": "code",
   "execution_count": null,
   "id": "9e2206a4",
   "metadata": {},
   "outputs": [],
   "source": [
    "SELECT * \n",
    "FROM users \n",
    "WHERE email IS NOT NULL;"
   ]
  },
  {
   "cell_type": "markdown",
   "id": "26e51a14",
   "metadata": {},
   "source": [
    "# Barcha mijozlarning ism familiyasini birlashtirib ko‘rsatish"
   ]
  },
  {
   "cell_type": "code",
   "execution_count": null,
   "id": "e1074cf1",
   "metadata": {},
   "outputs": [],
   "source": [
    "SELECT \n",
    "CONCAT(first_name, ' ', last_name) AS full_name\n",
    "FROM customers;"
   ]
  },
  {
   "cell_type": "markdown",
   "id": "9fc88124",
   "metadata": {},
   "source": [
    "# Har bir mahsulotning narxi va narx bo‘yicha saralash"
   ]
  },
  {
   "cell_type": "code",
   "execution_count": null,
   "id": "d793c541",
   "metadata": {},
   "outputs": [],
   "source": [
    "SELECT\n",
    "name,\n",
    "price \n",
    "FROM products\n",
    "ORDER BY price DESC;"
   ]
  },
  {
   "cell_type": "markdown",
   "id": "3f419c88",
   "metadata": {},
   "source": [
    "# Har bir `role` bo‘yicha o‘rtacha yosh"
   ]
  },
  {
   "cell_type": "code",
   "execution_count": null,
   "id": "60f48085",
   "metadata": {},
   "outputs": [],
   "source": [
    "SELECT role,\n",
    "AVG(age) AS avg_age\n",
    "FROM users\n",
    "GROUP BY role;"
   ]
  },
  {
   "cell_type": "markdown",
   "id": "1df51ac2",
   "metadata": {},
   "source": [
    "# Xodimlar bo‘limi va eng katta maosh"
   ]
  },
  {
   "cell_type": "code",
   "execution_count": null,
   "id": "96f0c71c",
   "metadata": {},
   "outputs": [],
   "source": [
    "SELECT department,\n",
    "MAX(salary) AS max_salary\n",
    "FROM employees\n",
    "GROUP BY department;"
   ]
  },
  {
   "cell_type": "markdown",
   "id": "ef3e3f65",
   "metadata": {},
   "source": [
    "#  Xodimlar orasida bonus olganlar (bonus > 0)"
   ]
  },
  {
   "cell_type": "code",
   "execution_count": null,
   "id": "3797025c",
   "metadata": {},
   "outputs": [],
   "source": [
    "SELECT *\n",
    "FROM employees\n",
    "WHERE bonus > 0;"
   ]
  },
  {
   "cell_type": "markdown",
   "id": "e4fd3ec0",
   "metadata": {},
   "source": [
    "# Faqat bitta marta buyurtma bergan mijozlar"
   ]
  },
  {
   "cell_type": "code",
   "execution_count": null,
   "id": "e05aab92",
   "metadata": {},
   "outputs": [],
   "source": [
    "SELECT\n",
    "customer_id\n",
    "FROM orders\n",
    "GROUP BY customer_id\n",
    "HAVING COUNT(*) = 1;"
   ]
  },
  {
   "cell_type": "markdown",
   "id": "2b1c38d8",
   "metadata": {},
   "source": [
    "# Mahsulotlar va ularning narxi + chegirmasi"
   ]
  },
  {
   "cell_type": "code",
   "execution_count": null,
   "id": "11cef000",
   "metadata": {},
   "outputs": [],
   "source": [
    "SELECT\n",
    "name,\n",
    "price,\n",
    "discount,\n",
    "(price - discount) AS final_price\n",
    "FROM products;"
   ]
  },
  {
   "cell_type": "markdown",
   "id": "89f87720",
   "metadata": {},
   "source": [
    "# Eng qadimgi 10 ta foydalanuvchini ko‘rsatish"
   ]
  },
  {
   "cell_type": "code",
   "execution_count": null,
   "id": "adac4d79",
   "metadata": {},
   "outputs": [],
   "source": [
    "SELECT *\n",
    "FROM users\n",
    "ORDER BY created_at ASC LIMIT 10;"
   ]
  },
  {
   "cell_type": "markdown",
   "id": "5a92905b",
   "metadata": {},
   "source": [
    "#  Ma'lumotlar bazasini tanlash va so‘rov qilish"
   ]
  },
  {
   "cell_type": "code",
   "execution_count": null,
   "id": "a4991262",
   "metadata": {},
   "outputs": [],
   "source": [
    "USE shop_db;\n",
    "SELECT *\n",
    "FROM products\n",
    "WHERE stock > 0;"
   ]
  }
 ],
 "metadata": {
  "kernelspec": {
   "display_name": "Python 3",
   "language": "python",
   "name": "python3"
  },
  "language_info": {
   "codemirror_mode": {
    "name": "ipython",
    "version": 3
   },
   "file_extension": ".py",
   "mimetype": "text/x-python",
   "name": "python",
   "nbconvert_exporter": "python",
   "pygments_lexer": "ipython3",
   "version": "3.13.3"
  }
 },
 "nbformat": 4,
 "nbformat_minor": 5
}
