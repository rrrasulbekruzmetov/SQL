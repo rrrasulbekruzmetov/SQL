{
 "cells": [
  {
   "cell_type": "code",
   "execution_count": 2,
   "id": "67e1c095",
   "metadata": {},
   "outputs": [
    {
     "name": "stdout",
     "output_type": "stream",
     "text": [
      "Collecting pyodbc\n",
      "  Downloading pyodbc-5.2.0-cp313-cp313-win_amd64.whl.metadata (2.8 kB)\n",
      "Downloading pyodbc-5.2.0-cp313-cp313-win_amd64.whl (69 kB)\n",
      "Installing collected packages: pyodbc\n",
      "Successfully installed pyodbc-5.2.0\n"
     ]
    },
    {
     "name": "stderr",
     "output_type": "stream",
     "text": [
      "\n",
      "[notice] A new release of pip is available: 25.0.1 -> 25.2\n",
      "[notice] To update, run: python.exe -m pip install --upgrade pip\n"
     ]
    }
   ],
   "source": [
    "!pip install pyodbc\n"
   ]
  },
  {
   "cell_type": "code",
   "execution_count": 7,
   "id": "9ba32cd5",
   "metadata": {},
   "outputs": [
    {
     "name": "stdout",
     "output_type": "stream",
     "text": [
      "+-----------+-----------+-------------+-------------+---------------+------------------------+-------------+\n",
      "|   loan_id |   book_id |   member_id | loan_date   | return_date   | expected_return_date   |   days_late |\n",
      "|-----------+-----------+-------------+-------------+---------------+------------------------+-------------|\n",
      "|         1 |         1 |           1 | 2023-01-10  | 2023-01-25    | 2023-01-24             |           1 |\n",
      "|         2 |         3 |           2 | 2023-01-20  | 2023-02-15    | 2023-02-03             |          12 |\n",
      "|         3 |         5 |           3 | 2023-02-01  | 2023-02-20    | 2023-02-15             |           5 |\n",
      "|         4 |         6 |           4 | 2023-02-18  | 2023-03-05    | 2023-03-04             |           1 |\n",
      "|         5 |         7 |           5 | 2023-03-10  |               | 2023-03-24             |         910 |\n",
      "|         7 |         2 |           1 | 2023-04-20  |               | 2023-05-04             |         869 |\n",
      "|         8 |         4 |           2 | 2023-05-01  |               | 2023-05-15             |         858 |\n",
      "|         9 |         8 |           3 | 2023-05-12  |               | 2023-05-26             |         847 |\n",
      "|        10 |        10 |           4 | 2023-06-01  |               | 2023-06-15             |         827 |\n",
      "+-----------+-----------+-------------+-------------+---------------+------------------------+-------------+\n"
     ]
    },
    {
     "name": "stderr",
     "output_type": "stream",
     "text": [
      "C:\\Users\\Rasulbek_Ruzmetov\\AppData\\Local\\Temp\\ipykernel_19180\\1651445713.py:27: UserWarning: pandas only supports SQLAlchemy connectable (engine/connection) or database string URI or sqlite3 DBAPI2 connection. Other DBAPI2 objects are not tested. Please consider using SQLAlchemy.\n",
      "  df = pd.read_sql(query, conn)\n"
     ]
    }
   ],
   "source": [
    "import pyodbc\n",
    "import pandas as pd\n",
    "from tabulate import tabulate\n",
    "\n",
    "# MS SQL Serverga ulanish\n",
    "conn = pyodbc.connect(\n",
    "    \"Driver={SQL Server};\"\n",
    "    \"Server=RASULBEK\\\\SQLEXPRESS;\"\n",
    "    \"Database=MyDatabase;\"\n",
    "    \"Trusted_Connection=yes;\"\n",
    ")\n",
    "\n",
    "# Overdue loans query\n",
    "query = \"\"\"\n",
    "SELECT \n",
    "    l.loan_id,\n",
    "    l.book_id,\n",
    "    l.member_id,\n",
    "    l.loan_date,\n",
    "    l.return_date,\n",
    "    DATEADD(DAY, 14, l.loan_date) AS expected_return_date,\n",
    "    DATEDIFF(DAY, DATEADD(DAY, 14, l.loan_date), ISNULL(l.return_date, GETDATE())) AS days_late\n",
    "FROM loans l\n",
    "WHERE (l.return_date IS NULL OR l.return_date > DATEADD(DAY, 14, l.loan_date));\n",
    "\"\"\"\n",
    "\n",
    "df = pd.read_sql(query, conn)\n",
    "\n",
    "# Tabulate bilan jadval ko‘rinishida chiqarish\n",
    "print(tabulate(df, headers=\"keys\", tablefmt=\"psql\", showindex=False))\n"
   ]
  },
  {
   "cell_type": "code",
   "execution_count": 6,
   "id": "7873860c",
   "metadata": {},
   "outputs": [
    {
     "name": "stderr",
     "output_type": "stream",
     "text": [
      "C:\\Users\\Rasulbek_Ruzmetov\\AppData\\Local\\Temp\\ipykernel_19180\\1032528543.py:14: UserWarning: pandas only supports SQLAlchemy connectable (engine/connection) or database string URI or sqlite3 DBAPI2 connection. Other DBAPI2 objects are not tested. Please consider using SQLAlchemy.\n",
      "  df = pd.read_sql(query, conn)\n"
     ]
    },
    {
     "data": {
      "text/html": [
       "<div>\n",
       "<style scoped>\n",
       "    .dataframe tbody tr th:only-of-type {\n",
       "        vertical-align: middle;\n",
       "    }\n",
       "\n",
       "    .dataframe tbody tr th {\n",
       "        vertical-align: top;\n",
       "    }\n",
       "\n",
       "    .dataframe thead th {\n",
       "        text-align: right;\n",
       "    }\n",
       "</style>\n",
       "<table border=\"1\" class=\"dataframe\">\n",
       "  <thead>\n",
       "    <tr style=\"text-align: right;\">\n",
       "      <th></th>\n",
       "      <th>loan_id</th>\n",
       "      <th>book_id</th>\n",
       "      <th>member_id</th>\n",
       "      <th>loan_date</th>\n",
       "      <th>return_date</th>\n",
       "    </tr>\n",
       "  </thead>\n",
       "  <tbody>\n",
       "    <tr>\n",
       "      <th>0</th>\n",
       "      <td>1</td>\n",
       "      <td>1</td>\n",
       "      <td>1</td>\n",
       "      <td>2023-01-10</td>\n",
       "      <td>2023-01-25</td>\n",
       "    </tr>\n",
       "    <tr>\n",
       "      <th>1</th>\n",
       "      <td>2</td>\n",
       "      <td>3</td>\n",
       "      <td>2</td>\n",
       "      <td>2023-01-20</td>\n",
       "      <td>2023-02-15</td>\n",
       "    </tr>\n",
       "    <tr>\n",
       "      <th>2</th>\n",
       "      <td>3</td>\n",
       "      <td>5</td>\n",
       "      <td>3</td>\n",
       "      <td>2023-02-01</td>\n",
       "      <td>2023-02-20</td>\n",
       "    </tr>\n",
       "    <tr>\n",
       "      <th>3</th>\n",
       "      <td>4</td>\n",
       "      <td>6</td>\n",
       "      <td>4</td>\n",
       "      <td>2023-02-18</td>\n",
       "      <td>2023-03-05</td>\n",
       "    </tr>\n",
       "    <tr>\n",
       "      <th>4</th>\n",
       "      <td>5</td>\n",
       "      <td>7</td>\n",
       "      <td>5</td>\n",
       "      <td>2023-03-10</td>\n",
       "      <td>None</td>\n",
       "    </tr>\n",
       "    <tr>\n",
       "      <th>5</th>\n",
       "      <td>6</td>\n",
       "      <td>9</td>\n",
       "      <td>6</td>\n",
       "      <td>2023-04-01</td>\n",
       "      <td>2023-04-15</td>\n",
       "    </tr>\n",
       "    <tr>\n",
       "      <th>6</th>\n",
       "      <td>7</td>\n",
       "      <td>2</td>\n",
       "      <td>1</td>\n",
       "      <td>2023-04-20</td>\n",
       "      <td>None</td>\n",
       "    </tr>\n",
       "    <tr>\n",
       "      <th>7</th>\n",
       "      <td>8</td>\n",
       "      <td>4</td>\n",
       "      <td>2</td>\n",
       "      <td>2023-05-01</td>\n",
       "      <td>None</td>\n",
       "    </tr>\n",
       "    <tr>\n",
       "      <th>8</th>\n",
       "      <td>9</td>\n",
       "      <td>8</td>\n",
       "      <td>3</td>\n",
       "      <td>2023-05-12</td>\n",
       "      <td>None</td>\n",
       "    </tr>\n",
       "    <tr>\n",
       "      <th>9</th>\n",
       "      <td>10</td>\n",
       "      <td>10</td>\n",
       "      <td>4</td>\n",
       "      <td>2023-06-01</td>\n",
       "      <td>None</td>\n",
       "    </tr>\n",
       "  </tbody>\n",
       "</table>\n",
       "</div>"
      ],
      "text/plain": [
       "   loan_id  book_id  member_id   loan_date return_date\n",
       "0        1        1          1  2023-01-10  2023-01-25\n",
       "1        2        3          2  2023-01-20  2023-02-15\n",
       "2        3        5          3  2023-02-01  2023-02-20\n",
       "3        4        6          4  2023-02-18  2023-03-05\n",
       "4        5        7          5  2023-03-10        None\n",
       "5        6        9          6  2023-04-01  2023-04-15\n",
       "6        7        2          1  2023-04-20        None\n",
       "7        8        4          2  2023-05-01        None\n",
       "8        9        8          3  2023-05-12        None\n",
       "9       10       10          4  2023-06-01        None"
      ]
     },
     "metadata": {},
     "output_type": "display_data"
    }
   ],
   "source": [
    "import pyodbc\n",
    "import pandas as pd\n",
    "\n",
    "# Ulanish\n",
    "conn = pyodbc.connect(\n",
    "    \"Driver={SQL Server};\"\n",
    "    \"Server=RASULBEK\\\\SQLEXPRESS;\"\n",
    "    \"Database=MyDatabase;\"\n",
    "    \"Trusted_Connection=yes;\"\n",
    ")\n",
    "\n",
    "# SQL query\n",
    "query = \"SELECT TOP 20 * FROM loans\"\n",
    "df = pd.read_sql(query, conn)\n",
    "\n",
    "# Natijani jadval ko‘rinishida chiqarish\n",
    "from IPython.display import display\n",
    "display(df)\n"
   ]
  },
  {
   "cell_type": "code",
   "execution_count": 8,
   "id": "749bdf50",
   "metadata": {},
   "outputs": [
    {
     "name": "stdout",
     "output_type": "stream",
     "text": [
      "   book_id  year  month  borrow_count\n",
      "0        1  2023      1             1\n",
      "1        3  2023      1             1\n",
      "2        5  2023      2             1\n",
      "3        6  2023      2             1\n",
      "4        7  2023      3             1\n"
     ]
    },
    {
     "name": "stderr",
     "output_type": "stream",
     "text": [
      "C:\\Users\\Rasulbek_Ruzmetov\\AppData\\Local\\Temp\\ipykernel_19180\\2234442920.py:23: UserWarning: pandas only supports SQLAlchemy connectable (engine/connection) or database string URI or sqlite3 DBAPI2 connection. Other DBAPI2 objects are not tested. Please consider using SQLAlchemy.\n",
      "  df = pd.read_sql(query, conn)\n"
     ]
    }
   ],
   "source": [
    "import pyodbc\n",
    "import pandas as pd\n",
    "\n",
    "# SQL ulanish\n",
    "conn = pyodbc.connect(\n",
    "    \"Driver={SQL Server};\"\n",
    "    \"Server=RASULBEK\\\\SQLEXPRESS;\"\n",
    "    \"Database=MyDatabase;\"\n",
    "    \"Trusted_Connection=yes;\"\n",
    ")\n",
    "\n",
    "query = \"\"\"\n",
    "SELECT \n",
    "    book_id,\n",
    "    YEAR(loan_date) AS year,\n",
    "    MONTH(loan_date) AS month,\n",
    "    COUNT(*) AS borrow_count\n",
    "FROM loans\n",
    "GROUP BY book_id, YEAR(loan_date), MONTH(loan_date)\n",
    "ORDER BY year, month;\n",
    "\"\"\"\n",
    "\n",
    "df = pd.read_sql(query, conn)\n",
    "print(df.head())\n"
   ]
  },
  {
   "cell_type": "code",
   "execution_count": 9,
   "id": "c119c950",
   "metadata": {},
   "outputs": [
    {
     "name": "stdout",
     "output_type": "stream",
     "text": [
      "MAE: 0.0\n"
     ]
    }
   ],
   "source": [
    "from sklearn.model_selection import train_test_split\n",
    "from sklearn.ensemble import RandomForestRegressor\n",
    "from sklearn.metrics import mean_absolute_error\n",
    "\n",
    "# Featurelar\n",
    "df['date'] = pd.to_datetime(df[['year','month']].assign(DAY=1))\n",
    "df['month_num'] = df['date'].dt.month\n",
    "df['year_num'] = df['date'].dt.year\n",
    "\n",
    "X = df[['book_id','month_num','year_num']]\n",
    "y = df['borrow_count']\n",
    "\n",
    "# Train/test bo‘lish\n",
    "X_train, X_test, y_train, y_test = train_test_split(X, y, test_size=0.2, shuffle=False)\n",
    "\n",
    "# Model\n",
    "model = RandomForestRegressor(n_estimators=100, random_state=42)\n",
    "model.fit(X_train, y_train)\n",
    "\n",
    "# Baholash\n",
    "y_pred = model.predict(X_test)\n",
    "print(\"MAE:\", mean_absolute_error(y_test, y_pred))\n"
   ]
  },
  {
   "cell_type": "code",
   "execution_count": 10,
   "id": "d4c9d213",
   "metadata": {},
   "outputs": [
    {
     "name": "stdout",
     "output_type": "stream",
     "text": [
      "   book_id  month_num  year_num  predicted_borrow\n",
      "0        1         10      2025               1.0\n",
      "1        3         10      2025               1.0\n",
      "2        5         10      2025               1.0\n",
      "3        6         10      2025               1.0\n",
      "4        7         10      2025               1.0\n",
      "5        2         10      2025               1.0\n",
      "6        9         10      2025               1.0\n",
      "7        4         10      2025               1.0\n",
      "8        8         10      2025               1.0\n",
      "9       10         10      2025               1.0\n"
     ]
    }
   ],
   "source": [
    "import datetime\n",
    "\n",
    "today = datetime.date.today()\n",
    "next_month = (today.replace(day=1) + pd.DateOffset(months=1))\n",
    "\n",
    "future_data = pd.DataFrame({\n",
    "    \"book_id\": df['book_id'].unique(),\n",
    "    \"month_num\": [next_month.month]*len(df['book_id'].unique()),\n",
    "    \"year_num\": [next_month.year]*len(df['book_id'].unique())\n",
    "})\n",
    "\n",
    "future_data['predicted_borrow'] = model.predict(future_data)\n",
    "\n",
    "# Eng ko‘p olinadigan top 10 kitob\n",
    "top_books = future_data.sort_values(by=\"predicted_borrow\", ascending=False).head(10)\n",
    "print(top_books)\n"
   ]
  },
  {
   "cell_type": "code",
   "execution_count": null,
   "id": "47b29fb3",
   "metadata": {},
   "outputs": [],
   "source": []
  }
 ],
 "metadata": {
  "kernelspec": {
   "display_name": "Python 3",
   "language": "python",
   "name": "python3"
  },
  "language_info": {
   "codemirror_mode": {
    "name": "ipython",
    "version": 3
   },
   "file_extension": ".py",
   "mimetype": "text/x-python",
   "name": "python",
   "nbconvert_exporter": "python",
   "pygments_lexer": "ipython3",
   "version": "3.13.3"
  }
 },
 "nbformat": 4,
 "nbformat_minor": 5
}
